{
 "cells": [
  {
   "cell_type": "code",
   "execution_count": 63,
   "metadata": {
    "collapsed": true
   },
   "outputs": [],
   "source": [
    "import numpy as np\n",
    "import struct\n",
    "import sys\n",
    "\n",
    "def read_file(filename):\n",
    "    with open(filename,'rb') as fp:\n",
    "        zero, data_type, dims = struct.unpack('>HBB', fp.read(4))\n",
    "        shape = tuple(struct.unpack('>I', fp.read(4))[0] for d in range(dims))\n",
    "        np_array = np.frombuffer(fp.read(), dtype=np.uint8).reshape(shape)\n",
    "    return np_array\n",
    "\n",
    "def preprocess(image_file, label_file):\n",
    "    images = read_file(image_file)\n",
    "    labels = read_file(label_file)\n",
    "    if (len(labels) > 10000):\n",
    "        labels = labels[:10000]\n",
    "        images = images[:10000]    \n",
    "    images = images/255.0\n",
    "    images = images.reshape( (10000, 784))\n",
    "\n",
    "    labels = labels.reshape(-1,1)\n",
    "    data = np.concatenate((images, labels), axis=1)\n",
    "    np.random.shuffle(data)\n",
    "    return data\n",
    "\n",
    "def get_features_labels(data, bias):\n",
    "    examples = data[:,:-1]\n",
    "    labels = data[:,-1]\n",
    "    examples = np.append(examples, bias, 1)\n",
    "    return examples, labels\n",
    "\n",
    "def get_true_label(digit, perceptron_type):\n",
    "    if digit == perceptron_type:\n",
    "        return 1\n",
    "    return 0"
   ]
  },
  {
   "cell_type": "code",
   "execution_count": 56,
   "metadata": {
    "collapsed": true
   },
   "outputs": [],
   "source": [
    "def inference(test_data, weights):\n",
    "    data_size = len(test_data)\n",
    "    bias = np.ones((data_size,1))\n",
    "    examples, labels = get_features_labels(test_data, bias)\n",
    "    prediction = np.ones(data_size, dtype = int)\n",
    "    correct = 0\n",
    "    for i, example in enumerate(examples):\n",
    "        activation_values = sigmoid(np.sum(weights*example, axis = 1))\n",
    "        prediction[i] = np.argmax(activation_values)\n",
    "        if prediction[i] == labels[i]:\n",
    "            correct += 1\n",
    "    accuracy = correct*1.0/data_size*100\n",
    "    return prediction, labels, accuracy"
   ]
  },
  {
   "cell_type": "code",
   "execution_count": 20,
   "metadata": {
    "collapsed": true
   },
   "outputs": [],
   "source": [
    "from numpy import linalg as LA\n",
    "def sigmoid(value):\n",
    "    return 1/(1+np.exp(-value))"
   ]
  },
  {
   "cell_type": "code",
   "execution_count": 66,
   "metadata": {
    "collapsed": true
   },
   "outputs": [],
   "source": [
    "path = \"../hw2/DATA_FOLDER/\"\n",
    "\n",
    "train_data = preprocess(path + '/train-images.idx3-ubyte', path + '/train-labels.idx1-ubyte')\n",
    "# print train_data[1]\n",
    "test_data = preprocess(path + '/t10k-images.idx3-ubyte', path + '/t10k-labels.idx1-ubyte')\n",
    "\n"
   ]
  },
  {
   "cell_type": "code",
   "execution_count": 117,
   "metadata": {},
   "outputs": [
    {
     "name": "stdout",
     "output_type": "stream",
     "text": [
      "(2, 3)\n"
     ]
    },
    {
     "data": {
      "text/plain": [
       "array([7, 4, 3])"
      ]
     },
     "execution_count": 117,
     "metadata": {},
     "output_type": "execute_result"
    }
   ],
   "source": [
    "a=np.array([2,3])\n",
    "b=np.array([[2,2,0],[1,0,1]])\n",
    "print b.shape\n",
    "np.dot(a,b)"
   ]
  },
  {
   "cell_type": "code",
   "execution_count": 118,
   "metadata": {
    "collapsed": true
   },
   "outputs": [],
   "source": [
    "def propagate(w, X, Y):\n",
    "\n",
    "    m = X.shape[1]\n",
    "\n",
    "    A = sigmoid(np.dot(w,X.T)) \n",
    "    print A.shape\n",
    "\n",
    "    cost = -1/m * np.sum(Y * np.log(A) + (1-Y) * (np.log(1-A)))\n",
    "\n",
    "    dz= (1/m)*(A - Y)\n",
    "    dw = np.dot(dz,X)\n",
    "    print dw.shape\n",
    "\n",
    "    cost = np.squeeze(cost)\n",
    "    grads = {\"dw\": dw}\n",
    "\n",
    "    return grads, cost"
   ]
  },
  {
   "cell_type": "code",
   "execution_count": 122,
   "metadata": {},
   "outputs": [],
   "source": [
    "def train_gd(train_data, num_epoches, learning_rate, lamda, test_data):\n",
    "    data_size = len(train_data)\n",
    "    weights = np.random.uniform(0,0.1,[10,785])\n",
    "#     weights = np.zeros((10,785))\n",
    "    bias = np.ones((data_size,1))\n",
    "    for epoch in range(num_epoches):\n",
    "        np.random.shuffle(train_data)\n",
    "        examples, labels = get_features_labels(train_data, bias)\n",
    "        delta_weights = np.zeros((10,785))\n",
    "#         Y = np.zeros((10,data_size))\n",
    "#         for i in range(data_size):\n",
    "#             Y[i]\n",
    "            \n",
    "        \n",
    "        for i,example in enumerate(examples):\n",
    "#             print example.shape\n",
    "#             print weights.shape\n",
    "            z = np.sum(weights*example, axis = 1)\n",
    "#             print z\n",
    "            y_pred = sigmoid(z)\n",
    "#             print y_pred\n",
    "#             label = np.zeros()\n",
    "#             print \"label is \", labels[i]\n",
    "            for j in range(0,10):\n",
    "                label = get_true_label(labels[i], j)\n",
    "                # if y_pred[j]*label < 0:\n",
    "                delta_weights[j] += learning_rate*(y_pred[j]-label)*example\n",
    "#             print delta_weights[0]\n",
    "#             print delta_weights[1]\n",
    "\n",
    "        weights -= delta_weights - lamda*weights\n",
    "#         print \"norm of weights is \\n\"\n",
    "#         print LA.norm(weights, axis = 1)\n",
    "        # cost = -1/examples.shape[1] * np.sum(  )\n",
    "        train_prediction, train_labels, train_accuracy = inference(train_data[:train_data_size], weights)\n",
    "        test_prediction, test_labels, test_accuracy = inference(test_data, weights)\n",
    "        print \"train accuracy is \", train_accuracy, \" test accuracy is \", test_accuracy\n",
    "    \n",
    "    return weights  "
   ]
  },
  {
   "cell_type": "code",
   "execution_count": 129,
   "metadata": {},
   "outputs": [
    {
     "name": "stderr",
     "output_type": "stream",
     "text": [
      "/Users/mohitgupta/anaconda2/lib/python2.7/site-packages/ipykernel_launcher.py:3: RuntimeWarning: overflow encountered in exp\n",
      "  This is separate from the ipykernel package so we can avoid doing imports until\n"
     ]
    },
    {
     "name": "stdout",
     "output_type": "stream",
     "text": [
      "train accuracy is  10.01  test accuracy is  9.8\n",
      "train accuracy is  10.01  test accuracy is  9.8\n",
      "train accuracy is  10.01  test accuracy is  9.8\n",
      "train accuracy is  10.01  test accuracy is  9.8\n",
      "train accuracy is  10.01  test accuracy is  9.8\n",
      "train accuracy is  11.56  test accuracy is  11.53\n",
      "train accuracy is  32.44  test accuracy is  31.52\n",
      "train accuracy is  60.49  test accuracy is  59.59\n",
      "train accuracy is  73.52  test accuracy is  73.18\n",
      "train accuracy is  69.39  test accuracy is  67.68\n",
      "train accuracy is  78.38  test accuracy is  77.56\n",
      "train accuracy is  74.75  test accuracy is  73.08\n",
      "train accuracy is  80.27  test accuracy is  79.23\n",
      "train accuracy is  76.5  test accuracy is  75.06\n",
      "train accuracy is  81.43  test accuracy is  80.41\n",
      "train accuracy is  77.5  test accuracy is  75.98\n",
      "train accuracy is  82.16  test accuracy is  81.19\n",
      "train accuracy is  78.34  test accuracy is  76.83\n",
      "train accuracy is  82.8  test accuracy is  81.97\n",
      "train accuracy is  79.49  test accuracy is  78.09\n",
      "train accuracy is  83.41  test accuracy is  82.61\n",
      "train accuracy is  80.85  test accuracy is  79.2\n",
      "train accuracy is  83.86  test accuracy is  83.02\n",
      "train accuracy is  81.64  test accuracy is  80.15\n",
      "train accuracy is  84.22  test accuracy is  83.43\n",
      "train accuracy is  82.3  test accuracy is  81.01\n",
      "train accuracy is  84.53  test accuracy is  83.76\n",
      "train accuracy is  83.04  test accuracy is  81.73\n",
      "train accuracy is  84.83  test accuracy is  84.13\n",
      "train accuracy is  83.75  test accuracy is  82.44\n",
      "train accuracy is  85.08  test accuracy is  84.37\n",
      "train accuracy is  84.48  test accuracy is  82.99\n",
      "train accuracy is  85.47  test accuracy is  84.61\n",
      "train accuracy is  84.84  test accuracy is  83.48\n",
      "train accuracy is  85.74  test accuracy is  84.72\n",
      "train accuracy is  85.19  test accuracy is  83.76\n",
      "train accuracy is  85.97  test accuracy is  84.88\n",
      "train accuracy is  85.42  test accuracy is  83.94\n",
      "train accuracy is  86.16  test accuracy is  85.03\n",
      "train accuracy is  85.68  test accuracy is  84.19\n",
      "train accuracy is  86.41  test accuracy is  85.26\n",
      "train accuracy is  85.83  test accuracy is  84.45\n",
      "train accuracy is  86.55  test accuracy is  85.38\n",
      "train accuracy is  86.0  test accuracy is  84.49\n",
      "train accuracy is  86.68  test accuracy is  85.39\n",
      "train accuracy is  86.13  test accuracy is  84.58\n",
      "train accuracy is  86.85  test accuracy is  85.44\n",
      "train accuracy is  86.33  test accuracy is  84.78\n",
      "train accuracy is  86.97  test accuracy is  85.63\n",
      "train accuracy is  86.49  test accuracy is  85.03\n",
      "train accuracy is  87.09  test accuracy is  85.79\n",
      "train accuracy is  86.6  test accuracy is  85.29\n",
      "train accuracy is  87.15  test accuracy is  86.0\n",
      "train accuracy is  86.73  test accuracy is  85.36\n",
      "train accuracy is  87.2  test accuracy is  86.11\n",
      "train accuracy is  86.8  test accuracy is  85.41\n",
      "train accuracy is  87.35  test accuracy is  86.11\n",
      "train accuracy is  86.99  test accuracy is  85.57\n",
      "train accuracy is  87.49  test accuracy is  86.23\n",
      "train accuracy is  87.16  test accuracy is  85.85\n",
      "train accuracy is  87.47  test accuracy is  86.35\n",
      "train accuracy is  87.28  test accuracy is  85.96\n",
      "train accuracy is  87.65  test accuracy is  86.48\n",
      "train accuracy is  87.48  test accuracy is  86.11\n",
      "train accuracy is  87.84  test accuracy is  86.55\n",
      "train accuracy is  87.65  test accuracy is  86.3\n",
      "train accuracy is  87.91  test accuracy is  86.58\n",
      "train accuracy is  87.84  test accuracy is  86.43\n",
      "train accuracy is  88.11  test accuracy is  86.56\n",
      "train accuracy is  88.02  test accuracy is  86.47\n",
      "train accuracy is  88.24  test accuracy is  86.68\n",
      "train accuracy is  88.08  test accuracy is  86.54\n",
      "train accuracy is  88.26  test accuracy is  86.71\n",
      "train accuracy is  88.15  test accuracy is  86.57\n",
      "train accuracy is  88.36  test accuracy is  86.72\n",
      "train accuracy is  88.29  test accuracy is  86.67\n",
      "train accuracy is  88.39  test accuracy is  86.82\n",
      "train accuracy is  88.38  test accuracy is  86.74\n",
      "train accuracy is  88.41  test accuracy is  86.91\n",
      "train accuracy is  88.41  test accuracy is  86.76\n",
      "train accuracy is  88.54  test accuracy is  86.93\n",
      "train accuracy is  88.49  test accuracy is  86.81\n",
      "train accuracy is  88.55  test accuracy is  86.98\n",
      "train accuracy is  88.62  test accuracy is  86.9\n",
      "train accuracy is  88.62  test accuracy is  86.99\n",
      "train accuracy is  88.63  test accuracy is  86.95\n",
      "train accuracy is  88.63  test accuracy is  86.98\n",
      "train accuracy is  88.67  test accuracy is  86.91\n",
      "train accuracy is  88.65  test accuracy is  87.0\n",
      "train accuracy is  88.71  test accuracy is  86.97\n",
      "train accuracy is  88.68  test accuracy is  87.03\n",
      "train accuracy is  88.79  test accuracy is  86.98\n",
      "train accuracy is  88.68  test accuracy is  87.08\n",
      "train accuracy is  88.84  test accuracy is  87.03\n",
      "train accuracy is  88.77  test accuracy is  87.11\n",
      "train accuracy is  88.91  test accuracy is  87.09\n",
      "train accuracy is  88.78  test accuracy is  87.09\n",
      "train accuracy is  88.99  test accuracy is  87.07\n",
      "train accuracy is  88.87  test accuracy is  87.15\n",
      "train accuracy is  89.01  test accuracy is  87.06\n",
      "train accuracy is  88.87  test accuracy is  87.13\n",
      "train accuracy is  88.97  test accuracy is  87.1\n",
      "train accuracy is  88.89  test accuracy is  87.15\n",
      "train accuracy is  88.95  test accuracy is  87.06\n",
      "train accuracy is  88.85  test accuracy is  87.18\n",
      "train accuracy is  88.85  test accuracy is  87.04\n",
      "train accuracy is  88.84  test accuracy is  87.12\n",
      "train accuracy is  88.7  test accuracy is  86.99\n",
      "train accuracy is  88.88  test accuracy is  87.07\n",
      "train accuracy is  88.65  test accuracy is  86.9\n",
      "train accuracy is  88.89  test accuracy is  87.1\n",
      "train accuracy is  88.67  test accuracy is  86.97\n",
      "train accuracy is  88.94  test accuracy is  87.16\n",
      "train accuracy is  88.74  test accuracy is  86.97\n",
      "train accuracy is  89.01  test accuracy is  87.29\n",
      "train accuracy is  88.82  test accuracy is  87.05\n",
      "train accuracy is  89.04  test accuracy is  87.34\n",
      "train accuracy is  88.77  test accuracy is  87.09\n",
      "train accuracy is  89.08  test accuracy is  87.35\n",
      "train accuracy is  88.88  test accuracy is  87.14\n",
      "train accuracy is  89.11  test accuracy is  87.41\n",
      "train accuracy is  88.99  test accuracy is  87.23\n",
      "train accuracy is  89.17  test accuracy is  87.41\n",
      "train accuracy is  89.03  test accuracy is  87.29\n",
      "train accuracy is  89.16  test accuracy is  87.43\n",
      "train accuracy is  89.09  test accuracy is  87.31\n",
      "train accuracy is  89.21  test accuracy is  87.36\n",
      "train accuracy is  89.14  test accuracy is  87.36\n",
      "train accuracy is  89.22  test accuracy is  87.44\n",
      "train accuracy is  89.14  test accuracy is  87.36\n",
      "train accuracy is  89.21  test accuracy is  87.45\n",
      "train accuracy is  89.19  test accuracy is  87.41\n",
      "train accuracy is  89.21  test accuracy is  87.46\n",
      "train accuracy is  89.27  test accuracy is  87.43\n",
      "train accuracy is  89.29  test accuracy is  87.46\n",
      "train accuracy is  89.29  test accuracy is  87.43\n",
      "train accuracy is  89.32  test accuracy is  87.47\n",
      "train accuracy is  89.3  test accuracy is  87.45\n",
      "train accuracy is  89.31  test accuracy is  87.48\n",
      "train accuracy is  89.32  test accuracy is  87.5\n",
      "train accuracy is  89.3  test accuracy is  87.5\n",
      "train accuracy is  89.3  test accuracy is  87.49\n",
      "train accuracy is  89.32  test accuracy is  87.48\n",
      "train accuracy is  89.31  test accuracy is  87.49\n",
      "train accuracy is  89.31  test accuracy is  87.47\n",
      "train accuracy is  89.31  test accuracy is  87.48\n",
      "train accuracy is  89.3  test accuracy is  87.46\n",
      "train accuracy is  89.23  test accuracy is  87.48\n",
      "train accuracy is  89.32  test accuracy is  87.49\n",
      "train accuracy is  89.26  test accuracy is  87.49\n"
     ]
    }
   ],
   "source": [
    "train_data_size = 10000\n",
    "epochs = 150\n",
    "learning_rate = 0.05\n",
    "lamda = 0.01\n",
    "gd_weights = train_gd(train_data[:10000], epochs, learning_rate, lamda, test_data)"
   ]
  },
  {
   "cell_type": "code",
   "execution_count": null,
   "metadata": {},
   "outputs": [],
   "source": []
  },
  {
   "cell_type": "code",
   "execution_count": null,
   "metadata": {},
   "outputs": [],
   "source": []
  },
  {
   "cell_type": "code",
   "execution_count": 71,
   "metadata": {},
   "outputs": [
    {
     "data": {
      "text/plain": [
       "array([[ 0.5],\n",
       "       [ 0.5],\n",
       "       [ 0.5],\n",
       "       [ 0.5],\n",
       "       [ 0.5],\n",
       "       [ 0.5],\n",
       "       [ 0.5],\n",
       "       [ 0.5],\n",
       "       [ 0.5],\n",
       "       [ 0.5]])"
      ]
     },
     "execution_count": 71,
     "metadata": {},
     "output_type": "execute_result"
    }
   ],
   "source": [
    "a= np.zeros((10,1))\n",
    "sigmoid(a)"
   ]
  },
  {
   "cell_type": "code",
   "execution_count": null,
   "metadata": {
    "collapsed": true
   },
   "outputs": [],
   "source": []
  }
 ],
 "metadata": {
  "kernelspec": {
   "display_name": "Python 2",
   "language": "python",
   "name": "python2"
  },
  "language_info": {
   "codemirror_mode": {
    "name": "ipython",
    "version": 2
   },
   "file_extension": ".py",
   "mimetype": "text/x-python",
   "name": "python",
   "nbconvert_exporter": "python",
   "pygments_lexer": "ipython2",
   "version": "2.7.14"
  }
 },
 "nbformat": 4,
 "nbformat_minor": 2
}

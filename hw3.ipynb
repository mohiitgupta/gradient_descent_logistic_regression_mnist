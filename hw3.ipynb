{
 "cells": [
  {
   "cell_type": "code",
   "execution_count": 63,
   "metadata": {
    "collapsed": true
   },
   "outputs": [],
   "source": [
    "import numpy as np\n",
    "import struct\n",
    "import sys\n",
    "\n",
    "def read_file(filename):\n",
    "    with open(filename,'rb') as fp:\n",
    "        zero, data_type, dims = struct.unpack('>HBB', fp.read(4))\n",
    "        shape = tuple(struct.unpack('>I', fp.read(4))[0] for d in range(dims))\n",
    "        np_array = np.frombuffer(fp.read(), dtype=np.uint8).reshape(shape)\n",
    "    return np_array\n",
    "\n",
    "def preprocess(image_file, label_file):\n",
    "    images = read_file(image_file)\n",
    "    labels = read_file(label_file)\n",
    "    if (len(labels) > 10000):\n",
    "        labels = labels[:10000]\n",
    "        images = images[:10000]    \n",
    "    images = images/255.0\n",
    "    images = images.reshape( (10000, 784))\n",
    "\n",
    "    labels = labels.reshape(-1,1)\n",
    "    data = np.concatenate((images, labels), axis=1)\n",
    "    np.random.shuffle(data)\n",
    "    return data\n",
    "\n",
    "def get_features_labels(data, bias):\n",
    "    examples = data[:,:-1]\n",
    "    labels = data[:,-1]\n",
    "    examples = np.append(examples, bias, 1)\n",
    "    return examples, labels\n",
    "\n",
    "def get_true_label(digit, perceptron_type):\n",
    "    if digit == perceptron_type:\n",
    "        return 1\n",
    "    return 0"
   ]
  },
  {
   "cell_type": "code",
   "execution_count": 56,
   "metadata": {
    "collapsed": true
   },
   "outputs": [],
   "source": [
    "def inference(test_data, weights):\n",
    "    data_size = len(test_data)\n",
    "    bias = np.ones((data_size,1))\n",
    "    examples, labels = get_features_labels(test_data, bias)\n",
    "    prediction = np.ones(data_size, dtype = int)\n",
    "    correct = 0\n",
    "    for i, example in enumerate(examples):\n",
    "        activation_values = sigmoid(np.sum(weights*example, axis = 1))\n",
    "        prediction[i] = np.argmax(activation_values)\n",
    "        if prediction[i] == labels[i]:\n",
    "            correct += 1\n",
    "    accuracy = correct*1.0/data_size*100\n",
    "    return prediction, labels, accuracy"
   ]
  },
  {
   "cell_type": "code",
   "execution_count": 20,
   "metadata": {
    "collapsed": true
   },
   "outputs": [],
   "source": [
    "from numpy import linalg as LA\n",
    "def sigmoid(value):\n",
    "    return 1/(1+np.exp(-value))"
   ]
  },
  {
   "cell_type": "code",
   "execution_count": 66,
   "metadata": {
    "collapsed": true
   },
   "outputs": [],
   "source": [
    "path = \"../hw2/DATA_FOLDER/\"\n",
    "\n",
    "train_data = preprocess(path + '/train-images.idx3-ubyte', path + '/train-labels.idx1-ubyte')\n",
    "# print train_data[1]\n",
    "test_data = preprocess(path + '/t10k-images.idx3-ubyte', path + '/t10k-labels.idx1-ubyte')\n",
    "\n"
   ]
  },
  {
   "cell_type": "code",
   "execution_count": 117,
   "metadata": {},
   "outputs": [
    {
     "name": "stdout",
     "output_type": "stream",
     "text": [
      "(2, 3)\n"
     ]
    },
    {
     "data": {
      "text/plain": [
       "array([7, 4, 3])"
      ]
     },
     "execution_count": 117,
     "metadata": {},
     "output_type": "execute_result"
    }
   ],
   "source": [
    "a=np.array([2,3])\n",
    "b=np.array([[2,2,0],[1,0,1]])\n",
    "print b.shape\n",
    "np.dot(a,b)"
   ]
  },
  {
   "cell_type": "code",
   "execution_count": 118,
   "metadata": {
    "collapsed": true
   },
   "outputs": [],
   "source": [
    "def propagate(w, X, Y):\n",
    "\n",
    "    m = X.shape[1]\n",
    "\n",
    "    A = sigmoid(np.dot(w,X.T)) \n",
    "    print A.shape\n",
    "\n",
    "    cost = -1/m * np.sum(Y * np.log(A) + (1-Y) * (np.log(1-A)))\n",
    "\n",
    "    dz= (1/m)*(A - Y)\n",
    "    dw = np.dot(dz,X)\n",
    "    print dw.shape\n",
    "\n",
    "    cost = np.squeeze(cost)\n",
    "    grads = {\"dw\": dw}\n",
    "\n",
    "    return grads, cost"
   ]
  },
  {
   "cell_type": "code",
   "execution_count": 122,
   "metadata": {},
   "outputs": [],
   "source": [
    "def train_gd(train_data, num_epoches, learning_rate, lamda, test_data):\n",
    "    data_size = len(train_data)\n",
    "    weights = np.random.uniform(0,0.1,[10,785])\n",
    "#     weights = np.zeros((10,785))\n",
    "    bias = np.ones((data_size,1))\n",
    "    for epoch in range(num_epoches):\n",
    "        np.random.shuffle(train_data)\n",
    "        examples, labels = get_features_labels(train_data, bias)\n",
    "        delta_weights = np.zeros((10,785))\n",
    "#         Y = np.zeros((10,data_size))\n",
    "#         for i in range(data_size):\n",
    "#             Y[i]\n",
    "            \n",
    "        \n",
    "        for i,example in enumerate(examples):\n",
    "#             print example.shape\n",
    "#             print weights.shape\n",
    "            z = np.sum(weights*example, axis = 1)\n",
    "#             print z\n",
    "            y_pred = sigmoid(z)\n",
    "#             print y_pred\n",
    "#             label = np.zeros()\n",
    "#             print \"label is \", labels[i]\n",
    "            for j in range(0,10):\n",
    "                label = get_true_label(labels[i], j)\n",
    "                # if y_pred[j]*label < 0:\n",
    "                delta_weights[j] += learning_rate*(y_pred[j]-label)*example\n",
    "#             print delta_weights[0]\n",
    "#             print delta_weights[1]\n",
    "\n",
    "        weights -= delta_weights - lamda*weights\n",
    "#         print \"norm of weights is \\n\"\n",
    "#         print LA.norm(weights, axis = 1)\n",
    "        # cost = -1/examples.shape[1] * np.sum(  )\n",
    "        train_prediction, train_labels, train_accuracy = inference(train_data[:train_data_size], weights)\n",
    "        test_prediction, test_labels, test_accuracy = inference(test_data, weights)\n",
    "        print \"train accuracy is \", train_accuracy, \" test accuracy is \", test_accuracy\n",
    "    \n",
    "    return weights  "
   ]
  },
  {
   "cell_type": "code",
   "execution_count": 130,
   "metadata": {},
   "outputs": [
    {
     "name": "stderr",
     "output_type": "stream",
     "text": [
      "/Users/mohitgupta/anaconda2/lib/python2.7/site-packages/ipykernel_launcher.py:3: RuntimeWarning: overflow encountered in exp\n",
      "  This is separate from the ipykernel package so we can avoid doing imports until\n"
     ]
    },
    {
     "name": "stdout",
     "output_type": "stream",
     "text": [
      "train accuracy is  10.01  test accuracy is  9.8\n",
      "train accuracy is  10.01  test accuracy is  9.8\n",
      "train accuracy is  10.01  test accuracy is  9.8\n",
      "train accuracy is  10.01  test accuracy is  9.8\n",
      "train accuracy is  10.01  test accuracy is  9.8\n",
      "train accuracy is  10.63  test accuracy is  10.39\n",
      "train accuracy is  28.21  test accuracy is  27.29\n",
      "train accuracy is  55.37  test accuracy is  54.18\n",
      "train accuracy is  71.89  test accuracy is  71.32\n",
      "train accuracy is  65.56  test accuracy is  64.04\n",
      "train accuracy is  76.89  test accuracy is  75.73\n",
      "train accuracy is  70.73  test accuracy is  69.44\n",
      "train accuracy is  78.97  test accuracy is  77.91\n",
      "train accuracy is  73.13  test accuracy is  71.41\n",
      "train accuracy is  80.33  test accuracy is  79.19\n",
      "train accuracy is  74.24  test accuracy is  72.64\n",
      "train accuracy is  81.23  test accuracy is  80.14\n",
      "train accuracy is  75.54  test accuracy is  74.0\n",
      "train accuracy is  81.84  test accuracy is  80.89\n",
      "train accuracy is  76.63  test accuracy is  75.23\n",
      "train accuracy is  82.54  test accuracy is  81.57\n",
      "train accuracy is  78.01  test accuracy is  76.18\n",
      "train accuracy is  83.06  test accuracy is  82.1\n",
      "train accuracy is  79.17  test accuracy is  77.44\n",
      "train accuracy is  83.46  test accuracy is  82.43\n",
      "train accuracy is  79.98  test accuracy is  78.56\n",
      "train accuracy is  83.66  test accuracy is  82.82\n",
      "train accuracy is  80.7  test accuracy is  79.07\n",
      "train accuracy is  83.84  test accuracy is  83.04\n",
      "train accuracy is  81.59  test accuracy is  79.92\n",
      "train accuracy is  84.17  test accuracy is  83.31\n",
      "train accuracy is  82.41  test accuracy is  80.82\n",
      "train accuracy is  84.6  test accuracy is  83.56\n",
      "train accuracy is  82.93  test accuracy is  81.21\n",
      "train accuracy is  84.84  test accuracy is  83.68\n",
      "train accuracy is  83.22  test accuracy is  81.57\n",
      "train accuracy is  84.97  test accuracy is  83.83\n",
      "train accuracy is  83.57  test accuracy is  81.94\n",
      "train accuracy is  85.21  test accuracy is  84.02\n",
      "train accuracy is  83.92  test accuracy is  82.18\n",
      "train accuracy is  85.36  test accuracy is  84.17\n",
      "train accuracy is  84.19  test accuracy is  82.38\n",
      "train accuracy is  85.61  test accuracy is  84.37\n",
      "train accuracy is  84.45  test accuracy is  82.68\n",
      "train accuracy is  85.8  test accuracy is  84.5\n",
      "train accuracy is  84.72  test accuracy is  82.8\n",
      "train accuracy is  85.91  test accuracy is  84.64\n",
      "train accuracy is  84.94  test accuracy is  83.1\n",
      "train accuracy is  85.96  test accuracy is  84.69\n",
      "train accuracy is  85.06  test accuracy is  83.15\n",
      "train accuracy is  86.1  test accuracy is  84.8\n",
      "train accuracy is  85.22  test accuracy is  83.35\n",
      "train accuracy is  86.27  test accuracy is  85.0\n",
      "train accuracy is  85.33  test accuracy is  83.45\n",
      "train accuracy is  86.47  test accuracy is  85.02\n",
      "train accuracy is  85.48  test accuracy is  83.63\n",
      "train accuracy is  86.57  test accuracy is  85.13\n",
      "train accuracy is  85.64  test accuracy is  83.85\n",
      "train accuracy is  86.69  test accuracy is  85.23\n",
      "train accuracy is  85.82  test accuracy is  84.11\n",
      "train accuracy is  86.78  test accuracy is  85.3\n",
      "train accuracy is  85.99  test accuracy is  84.32\n",
      "train accuracy is  86.85  test accuracy is  85.3\n",
      "train accuracy is  86.26  test accuracy is  84.43\n",
      "train accuracy is  86.96  test accuracy is  85.37\n",
      "train accuracy is  86.42  test accuracy is  84.71\n",
      "train accuracy is  87.03  test accuracy is  85.53\n",
      "train accuracy is  86.55  test accuracy is  84.92\n",
      "train accuracy is  87.14  test accuracy is  85.59\n",
      "train accuracy is  86.77  test accuracy is  85.06\n",
      "train accuracy is  87.23  test accuracy is  85.63\n",
      "train accuracy is  86.88  test accuracy is  85.17\n",
      "train accuracy is  87.36  test accuracy is  85.68\n",
      "train accuracy is  86.99  test accuracy is  85.3\n",
      "train accuracy is  87.43  test accuracy is  85.74\n",
      "train accuracy is  87.07  test accuracy is  85.34\n",
      "train accuracy is  87.48  test accuracy is  85.81\n",
      "train accuracy is  87.12  test accuracy is  85.39\n",
      "train accuracy is  87.5  test accuracy is  85.9\n",
      "train accuracy is  87.16  test accuracy is  85.42\n",
      "train accuracy is  87.51  test accuracy is  85.93\n",
      "train accuracy is  87.29  test accuracy is  85.52\n",
      "train accuracy is  87.6  test accuracy is  85.95\n",
      "train accuracy is  87.4  test accuracy is  85.6\n",
      "train accuracy is  87.64  test accuracy is  85.97\n",
      "train accuracy is  87.46  test accuracy is  85.58\n",
      "train accuracy is  87.72  test accuracy is  85.87\n",
      "train accuracy is  87.52  test accuracy is  85.59\n",
      "train accuracy is  87.78  test accuracy is  85.87\n",
      "train accuracy is  87.52  test accuracy is  85.63\n",
      "train accuracy is  87.83  test accuracy is  85.91\n",
      "train accuracy is  87.63  test accuracy is  85.66\n",
      "train accuracy is  87.91  test accuracy is  85.96\n",
      "train accuracy is  87.67  test accuracy is  85.68\n",
      "train accuracy is  88.04  test accuracy is  86.07\n",
      "train accuracy is  87.72  test accuracy is  85.77\n",
      "train accuracy is  88.09  test accuracy is  86.14\n",
      "train accuracy is  87.76  test accuracy is  85.78\n",
      "train accuracy is  88.08  test accuracy is  86.18\n",
      "train accuracy is  87.72  test accuracy is  85.81\n",
      "train accuracy is  88.09  test accuracy is  86.18\n",
      "train accuracy is  87.71  test accuracy is  85.82\n",
      "train accuracy is  88.08  test accuracy is  86.16\n",
      "train accuracy is  87.73  test accuracy is  85.73\n",
      "train accuracy is  88.11  test accuracy is  86.18\n",
      "train accuracy is  87.56  test accuracy is  85.62\n",
      "train accuracy is  88.16  test accuracy is  86.16\n",
      "train accuracy is  87.5  test accuracy is  85.45\n",
      "train accuracy is  88.19  test accuracy is  86.26\n",
      "train accuracy is  87.47  test accuracy is  85.36\n",
      "train accuracy is  88.21  test accuracy is  86.28\n",
      "train accuracy is  87.49  test accuracy is  85.3\n",
      "train accuracy is  88.3  test accuracy is  86.33\n",
      "train accuracy is  87.6  test accuracy is  85.41\n",
      "train accuracy is  88.4  test accuracy is  86.33\n",
      "train accuracy is  87.63  test accuracy is  85.5\n",
      "train accuracy is  88.44  test accuracy is  86.28\n",
      "train accuracy is  87.65  test accuracy is  85.55\n",
      "train accuracy is  88.43  test accuracy is  86.32\n",
      "train accuracy is  87.78  test accuracy is  85.63\n",
      "train accuracy is  88.47  test accuracy is  86.33\n",
      "train accuracy is  87.98  test accuracy is  85.82\n",
      "train accuracy is  88.39  test accuracy is  86.39\n",
      "train accuracy is  87.98  test accuracy is  86.0\n",
      "train accuracy is  88.36  test accuracy is  86.38\n",
      "train accuracy is  88.03  test accuracy is  86.05\n",
      "train accuracy is  88.35  test accuracy is  86.37\n",
      "train accuracy is  88.0  test accuracy is  86.08\n",
      "train accuracy is  88.4  test accuracy is  86.37\n",
      "train accuracy is  88.01  test accuracy is  86.15\n",
      "train accuracy is  88.33  test accuracy is  86.42\n",
      "train accuracy is  88.07  test accuracy is  86.24\n",
      "train accuracy is  88.34  test accuracy is  86.39\n",
      "train accuracy is  88.1  test accuracy is  86.23\n",
      "train accuracy is  88.32  test accuracy is  86.37\n",
      "train accuracy is  88.09  test accuracy is  86.27\n",
      "train accuracy is  88.28  test accuracy is  86.37\n",
      "train accuracy is  88.12  test accuracy is  86.24\n",
      "train accuracy is  88.31  test accuracy is  86.37\n",
      "train accuracy is  88.19  test accuracy is  86.26\n",
      "train accuracy is  88.36  test accuracy is  86.34\n",
      "train accuracy is  88.18  test accuracy is  86.23\n",
      "train accuracy is  88.35  test accuracy is  86.39\n",
      "train accuracy is  88.18  test accuracy is  86.21\n",
      "train accuracy is  88.37  test accuracy is  86.42\n",
      "train accuracy is  88.16  test accuracy is  86.16\n",
      "train accuracy is  88.37  test accuracy is  86.35\n",
      "train accuracy is  88.19  test accuracy is  86.11\n",
      "train accuracy is  88.31  test accuracy is  86.38\n",
      "train accuracy is  88.19  test accuracy is  86.11\n"
     ]
    }
   ],
   "source": [
    "train_data_size = 10000\n",
    "epochs = 150\n",
    "learning_rate = 0.1\n",
    "lamda = 0.01\n",
    "gd_weights = train_gd(train_data[:10000], epochs, learning_rate, lamda, test_data)"
   ]
  },
  {
   "cell_type": "code",
   "execution_count": null,
   "metadata": {},
   "outputs": [],
   "source": []
  },
  {
   "cell_type": "code",
   "execution_count": null,
   "metadata": {},
   "outputs": [],
   "source": []
  },
  {
   "cell_type": "code",
   "execution_count": 71,
   "metadata": {},
   "outputs": [
    {
     "data": {
      "text/plain": [
       "array([[ 0.5],\n",
       "       [ 0.5],\n",
       "       [ 0.5],\n",
       "       [ 0.5],\n",
       "       [ 0.5],\n",
       "       [ 0.5],\n",
       "       [ 0.5],\n",
       "       [ 0.5],\n",
       "       [ 0.5],\n",
       "       [ 0.5]])"
      ]
     },
     "execution_count": 71,
     "metadata": {},
     "output_type": "execute_result"
    }
   ],
   "source": [
    "a= np.zeros((10,1))\n",
    "sigmoid(a)"
   ]
  },
  {
   "cell_type": "code",
   "execution_count": null,
   "metadata": {
    "collapsed": true
   },
   "outputs": [],
   "source": []
  }
 ],
 "metadata": {
  "kernelspec": {
   "display_name": "Python 2",
   "language": "python",
   "name": "python2"
  },
  "language_info": {
   "codemirror_mode": {
    "name": "ipython",
    "version": 2
   },
   "file_extension": ".py",
   "mimetype": "text/x-python",
   "name": "python",
   "nbconvert_exporter": "python",
   "pygments_lexer": "ipython2",
   "version": "2.7.14"
  }
 },
 "nbformat": 4,
 "nbformat_minor": 2
}

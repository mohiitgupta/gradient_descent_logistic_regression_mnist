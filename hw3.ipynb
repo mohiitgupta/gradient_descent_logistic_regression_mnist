{
 "cells": [
  {
   "cell_type": "code",
   "execution_count": 63,
   "metadata": {
    "collapsed": true
   },
   "outputs": [],
   "source": [
    "import numpy as np\n",
    "import struct\n",
    "import sys\n",
    "\n",
    "def read_file(filename):\n",
    "    with open(filename,'rb') as fp:\n",
    "        zero, data_type, dims = struct.unpack('>HBB', fp.read(4))\n",
    "        shape = tuple(struct.unpack('>I', fp.read(4))[0] for d in range(dims))\n",
    "        np_array = np.frombuffer(fp.read(), dtype=np.uint8).reshape(shape)\n",
    "    return np_array\n",
    "\n",
    "def preprocess(image_file, label_file):\n",
    "    images = read_file(image_file)\n",
    "    labels = read_file(label_file)\n",
    "    if (len(labels) > 10000):\n",
    "        labels = labels[:10000]\n",
    "        images = images[:10000]    \n",
    "    images = images/255.0\n",
    "    images = images.reshape( (10000, 784))\n",
    "\n",
    "    labels = labels.reshape(-1,1)\n",
    "    data = np.concatenate((images, labels), axis=1)\n",
    "    np.random.shuffle(data)\n",
    "    return data\n",
    "\n",
    "def get_features_labels(data, bias):\n",
    "    examples = data[:,:-1]\n",
    "    labels = data[:,-1]\n",
    "    examples = np.append(examples, bias, 1)\n",
    "    return examples, labels\n",
    "\n",
    "def get_true_label(digit, perceptron_type):\n",
    "    if digit == perceptron_type:\n",
    "        return 1\n",
    "    return 0"
   ]
  },
  {
   "cell_type": "code",
   "execution_count": 56,
   "metadata": {
    "collapsed": true
   },
   "outputs": [],
   "source": [
    "def inference(test_data, weights):\n",
    "    data_size = len(test_data)\n",
    "    bias = np.ones((data_size,1))\n",
    "    examples, labels = get_features_labels(test_data, bias)\n",
    "    prediction = np.ones(data_size, dtype = int)\n",
    "    correct = 0\n",
    "    for i, example in enumerate(examples):\n",
    "        activation_values = sigmoid(np.sum(weights*example, axis = 1))\n",
    "        prediction[i] = np.argmax(activation_values)\n",
    "        if prediction[i] == labels[i]:\n",
    "            correct += 1\n",
    "    accuracy = correct*1.0/data_size*100\n",
    "    return prediction, labels, accuracy"
   ]
  },
  {
   "cell_type": "code",
   "execution_count": 20,
   "metadata": {
    "collapsed": true
   },
   "outputs": [],
   "source": [
    "from numpy import linalg as LA\n",
    "def sigmoid(value):\n",
    "    return 1/(1+np.exp(-value))"
   ]
  },
  {
   "cell_type": "code",
   "execution_count": 66,
   "metadata": {
    "collapsed": true
   },
   "outputs": [],
   "source": [
    "path = \"../hw2/DATA_FOLDER/\"\n",
    "\n",
    "train_data = preprocess(path + '/train-images.idx3-ubyte', path + '/train-labels.idx1-ubyte')\n",
    "# print train_data[1]\n",
    "test_data = preprocess(path + '/t10k-images.idx3-ubyte', path + '/t10k-labels.idx1-ubyte')\n",
    "\n"
   ]
  },
  {
   "cell_type": "code",
   "execution_count": 117,
   "metadata": {},
   "outputs": [
    {
     "name": "stdout",
     "output_type": "stream",
     "text": [
      "(2, 3)\n"
     ]
    },
    {
     "data": {
      "text/plain": [
       "array([7, 4, 3])"
      ]
     },
     "execution_count": 117,
     "metadata": {},
     "output_type": "execute_result"
    }
   ],
   "source": [
    "a=np.array([2,3])\n",
    "b=np.array([[2,2,0],[1,0,1]])\n",
    "print b.shape\n",
    "np.dot(a,b)"
   ]
  },
  {
   "cell_type": "code",
   "execution_count": 118,
   "metadata": {
    "collapsed": true
   },
   "outputs": [],
   "source": [
    "def propagate(w, X, Y):\n",
    "\n",
    "    m = X.shape[1]\n",
    "\n",
    "    A = sigmoid(np.dot(w,X.T)) \n",
    "    print A.shape\n",
    "\n",
    "    cost = -1/m * np.sum(Y * np.log(A) + (1-Y) * (np.log(1-A)))\n",
    "\n",
    "    dz= (1/m)*(A - Y)\n",
    "    dw = np.dot(dz,X)\n",
    "    print dw.shape\n",
    "\n",
    "    cost = np.squeeze(cost)\n",
    "    grads = {\"dw\": dw}\n",
    "\n",
    "    return grads, cost"
   ]
  },
  {
   "cell_type": "code",
   "execution_count": 122,
   "metadata": {},
   "outputs": [],
   "source": [
    "def train_gd(train_data, num_epoches, learning_rate, lamda, test_data):\n",
    "    data_size = len(train_data)\n",
    "    weights = np.random.uniform(0,0.1,[10,785])\n",
    "#     weights = np.zeros((10,785))\n",
    "    bias = np.ones((data_size,1))\n",
    "    for epoch in range(num_epoches):\n",
    "        np.random.shuffle(train_data)\n",
    "        examples, labels = get_features_labels(train_data, bias)\n",
    "        delta_weights = np.zeros((10,785))\n",
    "#         Y = np.zeros((10,data_size))\n",
    "#         for i in range(data_size):\n",
    "#             Y[i]\n",
    "            \n",
    "        \n",
    "        for i,example in enumerate(examples):\n",
    "#             print example.shape\n",
    "#             print weights.shape\n",
    "            z = np.sum(weights*example, axis = 1)\n",
    "#             print z\n",
    "            y_pred = sigmoid(z)\n",
    "#             print y_pred\n",
    "#             label = np.zeros()\n",
    "#             print \"label is \", labels[i]\n",
    "            for j in range(0,10):\n",
    "                label = get_true_label(labels[i], j)\n",
    "                # if y_pred[j]*label < 0:\n",
    "                delta_weights[j] += learning_rate*(y_pred[j]-label)*example\n",
    "#             print delta_weights[0]\n",
    "#             print delta_weights[1]\n",
    "\n",
    "        weights -= delta_weights - lamda*weights\n",
    "#         print \"norm of weights is \\n\"\n",
    "#         print LA.norm(weights, axis = 1)\n",
    "        # cost = -1/examples.shape[1] * np.sum(  )\n",
    "        train_prediction, train_labels, train_accuracy = inference(train_data[:train_data_size], weights)\n",
    "        test_prediction, test_labels, test_accuracy = inference(test_data, weights)\n",
    "        print \"train accuracy is \", train_accuracy, \" test accuracy is \", test_accuracy\n",
    "    \n",
    "    return weights  "
   ]
  },
  {
   "cell_type": "code",
   "execution_count": null,
   "metadata": {},
   "outputs": [
    {
     "name": "stderr",
     "output_type": "stream",
     "text": [
      "/Users/mohitgupta/anaconda2/lib/python2.7/site-packages/ipykernel_launcher.py:3: RuntimeWarning: overflow encountered in exp\n",
      "  This is separate from the ipykernel package so we can avoid doing imports until\n"
     ]
    },
    {
     "name": "stdout",
     "output_type": "stream",
     "text": [
      "train accuracy is  69.43  test accuracy is  68.46\n",
      "train accuracy is  69.06  test accuracy is  68.16\n",
      "train accuracy is  68.82  test accuracy is  67.99\n",
      "train accuracy is  68.79  test accuracy is  67.84\n",
      "train accuracy is  68.75  test accuracy is  67.82\n",
      "train accuracy is  68.78  test accuracy is  67.83\n",
      "train accuracy is  72.63  test accuracy is  71.24\n",
      "train accuracy is  74.05  test accuracy is  73.46\n",
      "train accuracy is  73.36  test accuracy is  72.95\n",
      "train accuracy is  78.45  test accuracy is  77.7\n",
      "train accuracy is  79.5  test accuracy is  78.84\n",
      "train accuracy is  83.17  test accuracy is  82.71\n",
      "train accuracy is  82.93  test accuracy is  82.57\n",
      "train accuracy is  83.75  test accuracy is  83.05\n",
      "train accuracy is  84.09  test accuracy is  83.63\n",
      "train accuracy is  84.46  test accuracy is  83.62\n",
      "train accuracy is  85.03  test accuracy is  84.46\n",
      "train accuracy is  85.33  test accuracy is  84.53\n",
      "train accuracy is  85.66  test accuracy is  84.98\n",
      "train accuracy is  86.03  test accuracy is  85.39\n",
      "train accuracy is  86.1  test accuracy is  85.47\n",
      "train accuracy is  86.51  test accuracy is  86.03\n",
      "train accuracy is  86.54  test accuracy is  85.85\n",
      "train accuracy is  87.09  test accuracy is  86.35\n",
      "train accuracy is  87.01  test accuracy is  86.17\n",
      "train accuracy is  87.48  test accuracy is  86.74\n",
      "train accuracy is  87.32  test accuracy is  86.32\n",
      "train accuracy is  87.65  test accuracy is  86.92\n",
      "train accuracy is  87.46  test accuracy is  86.6\n",
      "train accuracy is  87.82  test accuracy is  87.1\n",
      "train accuracy is  87.72  test accuracy is  86.8\n",
      "train accuracy is  88.07  test accuracy is  87.27\n",
      "train accuracy is  87.95  test accuracy is  86.98\n",
      "train accuracy is  88.17  test accuracy is  87.36\n",
      "train accuracy is  88.06  test accuracy is  87.09\n",
      "train accuracy is  88.25  test accuracy is  87.51\n",
      "train accuracy is  88.27  test accuracy is  87.33\n",
      "train accuracy is  88.32  test accuracy is  87.61\n",
      "train accuracy is  88.37  test accuracy is  87.5\n",
      "train accuracy is  88.42  test accuracy is  87.69\n",
      "train accuracy is  88.48  test accuracy is  87.75\n",
      "train accuracy is  88.51  test accuracy is  87.82\n",
      "train accuracy is  88.6  test accuracy is  87.83\n",
      "train accuracy is  88.63  test accuracy is  87.91\n",
      "train accuracy is  88.68  test accuracy is  87.94\n",
      "train accuracy is  88.77  test accuracy is  88.0\n",
      "train accuracy is  88.84  test accuracy is  88.01\n",
      "train accuracy is  88.86  test accuracy is  88.08\n",
      "train accuracy is  88.87  test accuracy is  88.1\n",
      "train accuracy is  88.92  test accuracy is  88.14\n",
      "train accuracy is  88.94  test accuracy is  88.11\n",
      "train accuracy is  88.96  test accuracy is  88.18\n",
      "train accuracy is  88.97  test accuracy is  88.19\n",
      "train accuracy is  89.0  test accuracy is  88.21\n",
      "train accuracy is  89.01  test accuracy is  88.21\n",
      "train accuracy is  89.03  test accuracy is  88.22\n",
      "train accuracy is  89.07  test accuracy is  88.24\n",
      "train accuracy is  89.14  test accuracy is  88.24\n",
      "train accuracy is  89.15  test accuracy is  88.24\n",
      "train accuracy is  89.17  test accuracy is  88.26\n",
      "train accuracy is  89.2  test accuracy is  88.27\n",
      "train accuracy is  89.23  test accuracy is  88.27\n",
      "train accuracy is  89.23  test accuracy is  88.29\n",
      "train accuracy is  89.26  test accuracy is  88.31\n",
      "train accuracy is  89.26  test accuracy is  88.33\n",
      "train accuracy is  89.26  test accuracy is  88.36\n",
      "train accuracy is  89.29  test accuracy is  88.37\n",
      "train accuracy is  89.32  test accuracy is  88.34\n",
      "train accuracy is  89.32  test accuracy is  88.36\n",
      "train accuracy is  89.33  test accuracy is  88.4\n",
      "train accuracy is  89.34  test accuracy is  88.42\n",
      "train accuracy is  89.36  test accuracy is  88.42\n",
      "train accuracy is  89.36  test accuracy is  88.41\n",
      "train accuracy is  89.34  test accuracy is  88.39\n",
      "train accuracy is  89.33  test accuracy is  88.41\n",
      "train accuracy is  89.32  test accuracy is  88.44\n",
      "train accuracy is  89.32  test accuracy is  88.45\n",
      "train accuracy is  89.35  test accuracy is  88.43\n",
      "train accuracy is  89.34  test accuracy is  88.44\n",
      "train accuracy is  89.31  test accuracy is  88.45\n",
      "train accuracy is  89.31  test accuracy is  88.45\n",
      "train accuracy is  89.36  test accuracy is  88.46\n",
      "train accuracy is  89.35  test accuracy is  88.44\n",
      "train accuracy is  89.34  test accuracy is  88.43\n",
      "train accuracy is  89.33  test accuracy is  88.42\n",
      "train accuracy is  89.35  test accuracy is  88.44\n",
      "train accuracy is  89.36  test accuracy is  88.46\n",
      "train accuracy is  89.36  test accuracy is  88.49\n",
      "train accuracy is  89.4  test accuracy is  88.47\n",
      "train accuracy is  89.42  test accuracy is  88.47\n",
      "train accuracy is  89.44  test accuracy is  88.47\n",
      "train accuracy is  89.42  test accuracy is  88.48\n",
      "train accuracy is  89.39  test accuracy is  88.45\n",
      "train accuracy is  89.38  test accuracy is  88.4\n",
      "train accuracy is  89.4  test accuracy is  88.4\n",
      "train accuracy is  89.39  test accuracy is  88.4\n"
     ]
    }
   ],
   "source": [
    "train_data_size = 10000\n",
    "epochs = 150\n",
    "learning_rate = 0.001\n",
    "lamda = 0.02\n",
    "gd_weights = train_gd(train_data[:10000], epochs, learning_rate, lamda, test_data)"
   ]
  },
  {
   "cell_type": "code",
   "execution_count": null,
   "metadata": {},
   "outputs": [],
   "source": []
  },
  {
   "cell_type": "code",
   "execution_count": null,
   "metadata": {},
   "outputs": [],
   "source": []
  },
  {
   "cell_type": "code",
   "execution_count": 71,
   "metadata": {},
   "outputs": [
    {
     "data": {
      "text/plain": [
       "array([[ 0.5],\n",
       "       [ 0.5],\n",
       "       [ 0.5],\n",
       "       [ 0.5],\n",
       "       [ 0.5],\n",
       "       [ 0.5],\n",
       "       [ 0.5],\n",
       "       [ 0.5],\n",
       "       [ 0.5],\n",
       "       [ 0.5]])"
      ]
     },
     "execution_count": 71,
     "metadata": {},
     "output_type": "execute_result"
    }
   ],
   "source": [
    "a= np.zeros((10,1))\n",
    "sigmoid(a)"
   ]
  },
  {
   "cell_type": "code",
   "execution_count": null,
   "metadata": {
    "collapsed": true
   },
   "outputs": [],
   "source": []
  }
 ],
 "metadata": {
  "kernelspec": {
   "display_name": "Python 2",
   "language": "python",
   "name": "python2"
  },
  "language_info": {
   "codemirror_mode": {
    "name": "ipython",
    "version": 2
   },
   "file_extension": ".py",
   "mimetype": "text/x-python",
   "name": "python",
   "nbconvert_exporter": "python",
   "pygments_lexer": "ipython2",
   "version": "2.7.14"
  }
 },
 "nbformat": 4,
 "nbformat_minor": 2
}
